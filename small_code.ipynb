{
 "cells": [
  {
   "cell_type": "code",
   "execution_count": 1,
   "metadata": {
    "collapsed": true
   },
   "outputs": [],
   "source": [
    "import numpy as np\n",
    "import pandas as pd\n",
    "import matplotlib.pyplot as plt\n",
    "%matplotlib inline"
   ]
  },
  {
   "cell_type": "code",
   "execution_count": 2,
   "metadata": {},
   "outputs": [],
   "source": [
    "# read in the small dataset file as a pandas dataframe\n",
    "data = pd.read_csv(\"small.csv\")"
   ]
  },
  {
   "cell_type": "code",
   "execution_count": 3,
   "metadata": {
    "collapsed": true
   },
   "outputs": [],
   "source": [
    "def getCount(data):\n",
    "    \n",
    "    \"\"\"contstructor for the transition probability matrix\n",
    "    \n",
    "    \"\"\"\n",
    "    \n",
    "    \n",
    "    N_sa = np.zeros((100,4))\n",
    "    \n",
    "    N_sa_sp = np.zeros((100,4,100))\n",
    "    \n",
    "    T_sp_sa = np.zeros((100,4,100))\n",
    "    \n",
    "    for i in range(len(np.unique(data))-1):\n",
    "        \n",
    "        state_data = data[(data['s'] == i+1)]\n",
    "        \n",
    "        for j in range(0,4):\n",
    "            \n",
    "            action_data = state_data[(state_data['a'] == j+1)]\n",
    "            \n",
    "            N_sa[i,j] = len(action_data)\n",
    "            \n",
    "            for k in np.unique(action_data['sp']):\n",
    "                \n",
    "                N_sa_sp[i,j,k-1] = len(action_data[(action_data['sp'] == k)])\n",
    "                \n",
    "                T_sp_sa[i,j,k-1] = N_sa_sp[i,j,k-1] / N_sa[i,j]\n",
    "                \n",
    "    return T_sp_sa\n",
    "            \n",
    "\n",
    "\n",
    "def Value_iteration(data,T):\n",
    "    \n",
    "    \"\"\"main function to calculate the value associated with each state.\n",
    "       Accepts dataframe as well as the transition probability matrix.\n",
    "        \n",
    "    \"\"\"\n",
    "    \n",
    "    U_old = np.zeros(100)\n",
    "    #discount factor\n",
    "    gamma = 0.95\n",
    "    \n",
    "\n",
    "    #while process has not converged\n",
    "    while True:\n",
    "        \n",
    "        U_new = np.zeros(100)\n",
    "        \n",
    "        # for-loop for every state\n",
    "        for i in range(100):\n",
    "            \n",
    "            #grab all of the data where the state is equal to i\n",
    "            state_space = data[(data['s'] == i+1)]\n",
    "            \n",
    "            save_action_values = []\n",
    "            \n",
    "            # for-loop for every action\n",
    "            for j in range(0,4):\n",
    "                \n",
    "                # construct an action dataframe where all state is equal to i \n",
    "                # and action is equal to j\n",
    "                action_space = state_space[(state_space['a'] == j+1)]\n",
    "                \n",
    "                # grab reward from this state,action\n",
    "                reward = float(action_space['r'][0:1])\n",
    "                \n",
    "                T_times_U = 0\n",
    "                \n",
    "                \n",
    "                # for each next state that we can visit for one action\n",
    "                # typically this is 1-value unless there is stochastic policy\n",
    "                for sp in np.unique(action_space['sp']):\n",
    "                    \n",
    "                    sp = sp - 1\n",
    "                    \n",
    "                    T_sp_sa = T[i,j,sp]\n",
    "                    \n",
    "                    T_times_U += T_sp_sa*U_old[sp]\n",
    "                              \n",
    "                save_action_values.append(reward + gamma*T_times_U)          \n",
    "            \n",
    "            #update value\n",
    "            U_new[i] = max(save_action_values)\n",
    "        \n",
    "        # find what the largest change in the value function was\n",
    "        new_theta = max(U_new - U_old)\n",
    "        \n",
    "        U_old = U_new\n",
    "        \n",
    "        # if there is no change then the value function converged\n",
    "        if new_theta == 0.0:\n",
    "            \n",
    "            return U_old            "
   ]
  },
  {
   "cell_type": "code",
   "execution_count": 4,
   "metadata": {},
   "outputs": [],
   "source": [
    "# construct T-matrix\n",
    "T = getCount(data)"
   ]
  },
  {
   "cell_type": "code",
   "execution_count": 5,
   "metadata": {
    "collapsed": true
   },
   "outputs": [],
   "source": [
    "U = Value_iteration(data,T)"
   ]
  },
  {
   "cell_type": "code",
   "execution_count": 6,
   "metadata": {},
   "outputs": [
    {
     "data": {
      "text/plain": [
       "<matplotlib.colorbar.Colorbar at 0x10f4f22e8>"
      ]
     },
     "execution_count": 6,
     "metadata": {},
     "output_type": "execute_result"
    },
    {
     "data": {
      "image/png": "[encoded data removed]",
      "text/plain": [
       "<matplotlib.figure.Figure at 0x10bf7d860>"
      ]
     },
     "metadata": {},
     "output_type": "display_data"
    }
   ],
   "source": [
    "plt.imshow(np.reshape(U,(10,10)),cmap='magma')\n",
    "plt.colorbar()"
   ]
  }
 ],
 "metadata": {
  "kernelspec": {
   "display_name": "Python 3",
   "language": "python",
   "name": "python3"
  },
  "language_info": {
   "codemirror_mode": {
    "name": "ipython",
    "version": 3
   },
   "file_extension": ".py",
   "mimetype": "text/x-python",
   "name": "python",
   "nbconvert_exporter": "python",
   "pygments_lexer": "ipython3",
   "version": "3.6.1"
  }
 },
 "nbformat": 4,
 "nbformat_minor": 2
}
