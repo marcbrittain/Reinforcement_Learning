{
 "cells": [
  {
   "cell_type": "code",
   "execution_count": 1,
   "metadata": {
    "collapsed": true
   },
   "outputs": [],
   "source": [
    "import numpy as np\n",
    "import pandas as pd\n",
    "import matplotlib.pyplot as plt\n",
    "from numba import jit\n",
    "%matplotlib inline"
   ]
  },
  {
   "cell_type": "code",
   "execution_count": null,
   "metadata": {
    "collapsed": true
   },
   "outputs": [],
   "source": [
    "df = pd.read_csv(\"medium.csv\")"
   ]
  },
  {
   "cell_type": "code",
   "execution_count": null,
   "metadata": {
    "collapsed": true
   },
   "outputs": [],
   "source": [
    "class TDQ_Medium():\n",
    "    \n",
    "    \"\"\"\n",
    "    function approximation using temporal difference Q learning\n",
    "    \"\"\"\n",
    "    \n",
    "    def __init__(self, nactions, nstates, alpha, gamma,data,episode_length, ld):\n",
    "        self.Q = np.zeros((nstates, nactions)) #initial Q-value\n",
    "        self.z = np.zeros((nstates, nactions)) #initial eligibility trace\n",
    "        self.nactions = nactions\n",
    "        self.nstates = nstates\n",
    "        self.alpha = alpha # learning rate\n",
    "        self.gamma = gamma # discount\n",
    "        self.ld = ld # lambda\n",
    "        self.data = data # input data containing all observed states\n",
    "        self.episode_length = episode_length #length of each episode in the data\n",
    "\n",
    "  \n",
    "    def value(self, state, action):\n",
    "        \"\"\"\n",
    "        returns Q-value for a given state and action\n",
    "        \"\"\"\n",
    "        \n",
    "        return self.Q[state, action]\n",
    "\n",
    "   \n",
    "    def delta(self, pstate, paction, reward, state, action):\n",
    "        \"\"\"\n",
    "        Delta function used to calculate the main error correlation bewteen the previous Q state and \n",
    "        the current Q state\n",
    "        \n",
    "        \"\"\"\n",
    "        return reward + (self.gamma * self.value(state,action)) - self.value(pstate,paction)\n",
    "\n",
    "    \n",
    "    def train(self, pstate, paction, reward, state, action, delta = None):\n",
    "        \"\"\"\n",
    "        A single step of reinforcement learning.\n",
    "        \"\"\"\n",
    "\n",
    "        if delta is None:\n",
    "            delta = self.delta(pstate, paction, reward, state, action)\n",
    "        \n",
    "        self.z[pstate,paction] += 1.0 # replacing traces\n",
    "        \n",
    "        # udpate Q and z\n",
    "        self.Q += self.alpha * delta * self.z\n",
    "        self.z *= (self.gamma * self.ld)\n",
    "\n",
    "   \n",
    "    def learn(self, verbose = True):\n",
    "        \"\"\"\n",
    "        main function for iterating over the episodes in the data\n",
    "        \"\"\"\n",
    "        \n",
    "        #length of episodes in the data\n",
    "        episode_length = self.episode_length\n",
    "        \n",
    "        # for-loop to iterate over all episdoes\n",
    "        for i in range(int(len(self.data)/episode_length)):\n",
    "            \n",
    "            t = []\n",
    "            episode_done = False\n",
    "            episode = 0\n",
    "            \n",
    "            # while loop to iterate over all data in the episode\n",
    "            while not episode_done:\n",
    "                \n",
    "                \n",
    "                s = self.data[i*499+episode,0]\n",
    "                a = self.data[i*499+episode,1]-1\n",
    "                r = self.data[i*499+episode,2]\n",
    "                sp = self.data[i*499+episode,3]\n",
    "                na = self.data[i*499+episode+1,1]-1\n",
    "                t.append([s,a,r,sp,na])\n",
    "                             \n",
    "                episode+= 1\n",
    "                if episode == 497:\n",
    "                    episode_done = True\n",
    "            \n",
    "            # update Q-value\n",
    "            for (previous, paction, reward, state, action) in t:\n",
    "                    self.train(previous, paction, reward, state, action)\n",
    "            if verbose:\n",
    "                print (i)"
   ]
  },
  {
   "cell_type": "code",
   "execution_count": null,
   "metadata": {
    "collapsed": true
   },
   "outputs": [],
   "source": [
    "data = df.values.astype(int)"
   ]
  },
  {
   "cell_type": "code",
   "execution_count": null,
   "metadata": {
    "collapsed": true
   },
   "outputs": [],
   "source": [
    "td = TDQ(7,50000,0.2,1,data,499,0.99)"
   ]
  },
  {
   "cell_type": "code",
   "execution_count": null,
   "metadata": {
    "collapsed": true,
    "scrolled": true
   },
   "outputs": [],
   "source": [
    "td.learn()"
   ]
  }
 ],
 "metadata": {
  "kernelspec": {
   "display_name": "Python 3",
   "language": "python",
   "name": "python3"
  },
  "language_info": {
   "codemirror_mode": {
    "name": "ipython",
    "version": 3
   },
   "file_extension": ".py",
   "mimetype": "text/x-python",
   "name": "python",
   "nbconvert_exporter": "python",
   "pygments_lexer": "ipython3",
   "version": "3.6.2"
  }
 },
 "nbformat": 4,
 "nbformat_minor": 2
}
